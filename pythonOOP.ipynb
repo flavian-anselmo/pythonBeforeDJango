{
 "cells": [
  {
   "cell_type": "markdown",
   "source": [
    "OOP IN PYTHON NOTES "
   ],
   "metadata": {}
  },
  {
   "cell_type": "code",
   "execution_count": 1,
   "source": [
    "#CLASS is like a blue print \n",
    "#this will let ypu bundle together behaviour and state \n",
    "class NbaPlayer():\n",
    "    #class for all nba players \n",
    "    #properties of an nba player \n",
    "    name=''\n",
    "    jearseyNO=0\n",
    "\n",
    "    #BEHAVIOUR \n",
    "    def shoot(self):\n",
    "        print('shooting')\n",
    "    def dunk(self):\n",
    "        print('dunking')\n",
    "        \n",
    "\n",
    "#instaces of the class \n",
    "\n",
    "pg=NbaPlayer()\n",
    "pg.name='steph curry'\n",
    "pg.jearseyNO=30\n",
    "\n",
    "sf=NbaPlayer()\n",
    "sf.name='lebron james'\n",
    "sf.jearseyNO=23\n",
    "print(pg.name)\n",
    "print(pg.jearseyNO)\n",
    "pg.shoot()\n",
    "print(sf.name)\n",
    "print(sf.jearseyNO)\n",
    "sf.dunk()"
   ],
   "outputs": [
    {
     "output_type": "stream",
     "name": "stdout",
     "text": [
      "steph curry\n",
      "30\n",
      "shooting\n",
      "lebron james\n",
      "23\n",
      "dunking\n"
     ]
    }
   ],
   "metadata": {}
  },
  {
   "cell_type": "markdown",
   "source": [
    "ENCAPSULATION"
   ],
   "metadata": {}
  },
  {
   "cell_type": "markdown",
   "source": [
    "Encapsulation is one of the fundamentls \n",
    "of oop ..this enables us to hide the complexity of the internal \n",
    "working of the object which is advantageous to the developer \n",
    "in the following ways \n",
    "    simplifies and makes it easy to unserstand to use an object without knowing the internals \n",
    "    managable changes \n",
    "encapsulation provides us the mechanism to restrict the acces s to some of teh objects components this means thatthe interbal implemementatons of the object cant be seen form the outiside of the object \n",
    "\n",
    "this datacan be accessed using getters and setters\n"
   ],
   "metadata": {}
  },
  {
   "cell_type": "code",
   "execution_count": 16,
   "source": [
    "class NBA(object):\n",
    "    #setter\n",
    "    def setName(self,name):\n",
    "        self.name=name\n",
    "        #getter\n",
    "    def getName(self):\n",
    "        return self.name    \n",
    "        #setter \n",
    "    def setPosition(self,pos):\n",
    "        self.pos=pos\n",
    "    def getPosition(self):\n",
    "        return self.pos    \n",
    "p=NBA()\n",
    "f=NBA()\n",
    "f.setName('Kevin Durant')\n",
    "f.setPosition('small forward')\n",
    "\n",
    "p.setName('stephcurry') \n",
    "p.setPosition('point gaurd')\n",
    "print(p.getName())\n",
    "print(p.getPosition())\n",
    "print(f.getName())\n",
    "print(f.getPosition())\n",
    "#this setters only setthe value \n",
    "#if it achieves exception handling \n",
    "\"\"\"\n",
    "this demostrates howclasses are created methods \n",
    "acccessors and the mutators and how to create the instances \n",
    "of the specific class which is a type of player \n",
    "\"\"\""
   ],
   "outputs": [
    {
     "output_type": "stream",
     "name": "stdout",
     "text": [
      "stephcurry\n",
      "point gaurd\n",
      "Kevin Durant\n",
      "small forward\n"
     ]
    }
   ],
   "metadata": {}
  },
  {
   "cell_type": "markdown",
   "source": [
    "\n",
    "CONSTRACTOR\n",
    "the init cnstractor is simply called as soon as an object is instanciated \n",
    "THe init stands for initialization as it initializes attributes of the instance \n",
    "it is called the contracto of the class \n",
    "\n",
    "The property that all classes of all objectsmust be defined  in a method called __init__()\n",
    "sets the initial state of the of the object by assigning the values of the object  prperties ,that is __init__()initialises each instance of the class \n",
    "\n",
    "one can give __init__() any number of parameters but the first variable will be always self key word \n"
   ],
   "metadata": {}
  },
  {
   "cell_type": "code",
   "execution_count": 3,
   "source": [
    "class NBA(object):\n",
    "    def __init__(self,age,pos,name):\n",
    "        #the constractor \n",
    "        self.age=age\n",
    "        self.pos=pos\n",
    "        self.name=name\n",
    "    def getname(self):\n",
    "        return self.name\n",
    "    def getage(self):\n",
    "        return self.age\n",
    "    def getposition(self):\n",
    "        return self.pos\n",
    "#instance of a playerin the nba \n",
    "player_onr=NBA(32,'point gaurd','steph curry')\n",
    "print(player_onr.getage())\n",
    "print(player_onr.getposition())\n",
    "print(player_onr.getname())\n",
    "\n",
    "\n",
    "\"\"\"\n",
    "demonstartes how the consttrator in py works \n",
    "there is no need of the getter and the mutators \n",
    "\"\"\"\n",
    "\n"
   ],
   "outputs": [
    {
     "output_type": "stream",
     "name": "stdout",
     "text": [
      "32\n",
      "point gaurd\n",
      "steph curry\n"
     ]
    }
   ],
   "metadata": {}
  },
  {
   "cell_type": "markdown",
   "source": [
    "the __init__() method creates an attribute name and assign it a value name \n",
    "THe attributes created are are instance attribute An instance attribute is specific to \n",
    "a particular instance of a class \n",
    "All objects have some property \n",
    "\n",
    "Class attributes aoutside the __init__() method do not change when assigning new class instances \n",
    "\n",
    "__str__() is a dunder method because they start with double underscores \n",
    "they are self calling methods once the class in instanciated "
   ],
   "metadata": {}
  },
  {
   "cell_type": "code",
   "execution_count": 17,
   "source": [
    "class Dog:\n",
    "    #class outside the __init__()\n",
    "    species=\"Canis familiaris\"\n",
    "    #remains constant \n",
    "    def __init__(self,name,breed):\n",
    "        #this attributes have different value in each instance \n",
    "        self.name=name\n",
    "        self.breed=breed\n",
    "    def __str__(self):\n",
    "        #self calling method thatreturns a string \n",
    "        return f\"{self.name} is a {self.breed}\"\n",
    "bobby=Dog('bobby','germanshepherd')\n",
    "#printing bobby prints the memory location of the instance \n",
    "print(bobby)\n",
    "print(bobby.name)\n",
    "print(bobby.breed)\n",
    "print(bobby)\n",
    "\n",
    "        "
   ],
   "outputs": [
    {
     "output_type": "stream",
     "name": "stdout",
     "text": [
      "bobby is a germanshepherd\n",
      "bobby\n",
      "germanshepherd\n",
      "bobby is a germanshepherd\n"
     ]
    }
   ],
   "metadata": {}
  },
  {
   "cell_type": "markdown",
   "source": [
    "Methods in OOP\n",
    "    External methods ->other objects can invoke \n",
    "    internal methods ->not reachable by otherobjects \n",
    "    \n",
    "    Encapsulation\n",
    "    Protecting data \n",
    "    THe data is internam and should be protected from outside manipulatiion \n",
    "    or rather uncontrolled outside manipulation \n",
    "    \n",
    "    1.you dont need to know the internals \n",
    "    2.you shouldnt know the internals \n",
    "    \n",
    "    Access levels\n",
    "        hide data using access modifiers \n",
    "        using an underscore shows that the property is private to the class \n",
    "        with one leading underscore it makes the property protected \n",
    "        with two leading underscores it makes the propety private \n",
    "        _height->protected \n",
    "        __height->private \n",
    "        \n",
    "        private property is visible to specific class \n",
    "        protected makes the property visible only to classes that extend or inherit\n",
    "        from domain of the property \n",
    "        \n",
    "    "
   ],
   "metadata": {}
  },
  {
   "cell_type": "code",
   "execution_count": 2,
   "source": [
    "class Square:\n",
    "    def __init__(self,height,width):\n",
    "        self._height=height\n",
    "        self._width=width\n",
    "    def setSide(newHieght):\n",
    "        _height=newHieght\n",
    "    def setWidth(newWidth):\n",
    "        _width=newWidth    \n",
    "#instances of class \n",
    "sqr=Square(8,9)\n",
    "\n",
    "print(sqr._height)\n",
    "print(sqr._width)\n",
    "#the value will change bacause it is protected "
   ],
   "outputs": [
    {
     "output_type": "stream",
     "name": "stdout",
     "text": [
      "8\n",
      "9\n"
     ]
    }
   ],
   "metadata": {}
  },
  {
   "cell_type": "code",
   "execution_count": 1,
   "source": [
    "class Square:\n",
    "    def __init__(self):\n",
    "        self.__height=2\n",
    "        self.__width=2\n",
    "    def setSide(self,height):\n",
    "        self.__height=height\n",
    "    def getSide(self):\n",
    "        return self.__height\n",
    "#instances of class \n",
    "sqr=Square()\n",
    "sqr.setSide(3)\n",
    "\n",
    "print(sqr.__height)\n",
    "#throws an error because the property is private and cant be altered outside the class "
   ],
   "outputs": [
    {
     "output_type": "error",
     "ename": "AttributeError",
     "evalue": "'Square' object has no attribute '__height'",
     "traceback": [
      "\u001b[0;31m---------------------------------------------------------------------------\u001b[0m",
      "\u001b[0;31mAttributeError\u001b[0m                            Traceback (most recent call last)",
      "\u001b[0;32m<ipython-input-1-e78d133dbad5>\u001b[0m in \u001b[0;36m<module>\u001b[0;34m\u001b[0m\n\u001b[1;32m     11\u001b[0m \u001b[0msqr\u001b[0m\u001b[0;34m.\u001b[0m\u001b[0msetSide\u001b[0m\u001b[0;34m(\u001b[0m\u001b[0;36m3\u001b[0m\u001b[0;34m)\u001b[0m\u001b[0;34m\u001b[0m\u001b[0;34m\u001b[0m\u001b[0m\n\u001b[1;32m     12\u001b[0m \u001b[0;34m\u001b[0m\u001b[0m\n\u001b[0;32m---> 13\u001b[0;31m \u001b[0mprint\u001b[0m\u001b[0;34m(\u001b[0m\u001b[0msqr\u001b[0m\u001b[0;34m.\u001b[0m\u001b[0m__height\u001b[0m\u001b[0;34m)\u001b[0m\u001b[0;34m\u001b[0m\u001b[0;34m\u001b[0m\u001b[0m\n\u001b[0m\u001b[1;32m     14\u001b[0m \u001b[0;31m#throws an error because the property is private and cant be altered outside the class\u001b[0m\u001b[0;34m\u001b[0m\u001b[0;34m\u001b[0m\u001b[0;34m\u001b[0m\u001b[0m\n",
      "\u001b[0;31mAttributeError\u001b[0m: 'Square' object has no attribute '__height'"
     ]
    }
   ],
   "metadata": {}
  },
  {
   "cell_type": "markdown",
   "source": [
    "# Getters and setters or Accessors and mutators"
   ],
   "metadata": {}
  },
  {
   "cell_type": "markdown",
   "source": [
    "We've said so far that data in general shouldn't be touched from the outside. Data is the concern of the object. As with all rules and strong recommendations, there are exceptions. Sometimes you need to change the data. Or, changing it's simpler than having to add a significant amount of code.\n",
    "\n",
    "getters and setters arededicated to reading and changing your data \n",
    "getters play the part of making private data readable to the outside \n",
    " setters are methods thatcan change the data directly insude the class \n",
    "getters and setters methods are usually public \n"
   ],
   "metadata": {}
  },
  {
   "cell_type": "code",
   "execution_count": 14,
   "source": [
    "class Square:\n",
    "    def __init__(self):\n",
    "        self.__h=2\n",
    "        self.__w=2\n",
    "    def setSide(self,nside):\n",
    "        #set values for new side \n",
    "        self.__h=nside\n",
    "        self.__w=nside\n",
    "    def getSide(self):\n",
    "        return self.__h\n",
    "    def validate(self,h):\n",
    "        #this methods helps one not to set a negative value for hieght \n",
    "        #do this without a decorator eg property\n",
    "        if self.__h>=0:\n",
    "            self.__h=h\n",
    "        else:\n",
    "              print(\"value needs to be greater than 0\")\n",
    "s=Square()\n",
    "s.validate(-2)\n",
    "print(s.getSide())\n",
    "            \n",
    "            "
   ],
   "outputs": [
    {
     "output_type": "stream",
     "name": "stdout",
     "text": [
      "-2\n"
     ]
    }
   ],
   "metadata": {}
  },
  {
   "cell_type": "markdown",
   "source": [
    "# Decorators for setters and getters (property)\n"
   ],
   "metadata": {}
  },
  {
   "cell_type": "code",
   "execution_count": 54,
   "source": [
    "class Square:\n",
    "    def __init__(self,s):\n",
    "        self.__h=s\n",
    "        #self.__w=h\n",
    "        \n",
    "        \n",
    "    #decorator     \n",
    "    @property    \n",
    "    def setside(self):\n",
    "        return self.__h\n",
    "    \n",
    "    #decorator\n",
    "    @setside.setter\n",
    "    def setside(self,s):\n",
    "        if s>=0:\n",
    "            #make the initialisation if condition true \n",
    "            #this acts as a setter instead of creating two functions like in java \n",
    "            \n",
    "            self.__h=s\n",
    "            print(\"set successfully\")\n",
    "        else:\n",
    "             raise Exception(\"cant be less than zero\")\n",
    "        \n",
    "sqr= Square(-20)\n",
    "sqr.h=30\n",
    "print(sqr.setside)\n",
    "        "
   ],
   "outputs": [
    {
     "output_type": "stream",
     "name": "stdout",
     "text": [
      "-20\n"
     ]
    }
   ],
   "metadata": {}
  },
  {
   "cell_type": "markdown",
   "source": [
    "Problem description\n",
    "Rock, paper, scissors is a game played by two participants. The game consists of rounds. In each round, a participant chooses a symbol from rock, paper, or scissors, and the other participant does the same. Then a winner of the round is determined by comparing the chosen symbols. The rules of the game state that rock wins over scissors, scissors beats (cuts) paper, and paper beats (covers) rock. The winner of the round is awarded a point. The game goes on for as many rounds as the participants agreed on. The winner is the participant with the most points.\n",
    "\n",
    "phase  actor behavior data \n",
    "\n"
   ],
   "metadata": {}
  },
  {
   "cell_type": "code",
   "execution_count": 2,
   "source": [
    "\"\"\"\n",
    "rules of the game \n",
    "r wins over s\n",
    "s beats p\n",
    "p beats r\n",
    "the winner of the round is given a point \n",
    "\"\"\"\n",
    "\n",
    "class Player:\n",
    "    \"\"\"\n",
    "    a player will choose a symbol\n",
    "    either rock paper or scissors \n",
    "    \n",
    "    \"\"\"\n",
    "    def __init__(self):\n",
    "        self.points=0\n",
    "        \n",
    "        #check for win status \n",
    "        self.winp1=False\n",
    "        self.winp2=False\n",
    "             \n",
    "    # def choosesymbol(self):\n",
    "    #     if playerOne.choice=='r' and playerTwo.choice=='s':\n",
    "    #         #game.endGame=True\n",
    "    #         self.winp1=True\n",
    "    #         print(\"player one won\")\n",
    "    #     elif playerOne.choice=='s'and playerTwo.choice=='p':\n",
    "    #         #game.endGame=True\n",
    "    #         self.winp1=True\n",
    "    #         print(\"player one won\")\n",
    "    #     elif self.playerOne.choice=='p'and playerTwo.choice=='r':\n",
    "    #         #game.endGame=True\n",
    "    #         self.winp1=True\n",
    "    #         print(\"player one won\")\n",
    "    #     if playerTwo.choice=='r' and playerOne.choice=='s':\n",
    "    #         #game.endGame=True\n",
    "    #         self.winp2=True\n",
    "    #         print(\"player Two won\")\n",
    "    #     elif playerTwo.choice=='s'and playerOne.choice=='p':\n",
    "    #         #game.endGame=True\n",
    "    #         self.winp2=True\n",
    "    #         print(\"player Two won\")\n",
    "    #     elif playerTwo.choice=='p'and playerOne.choice=='r':\n",
    "    #         #game.endGame=True\n",
    "    #         self.winp2=True\n",
    "    #         print(\"player Two won\")\n",
    "    #     else:\n",
    "    #         #game.endGame=True\n",
    "    #         self.winp1=True\n",
    "    #         self.winp2=True\n",
    "    #         print(\"draw\")\n",
    "          \n",
    " \n",
    "    #pass \n",
    "class Gameround:\n",
    "    \"\"\"\n",
    "    award points to the players that have won\n",
    "    compare choices aganist game rules \n",
    "    \"\"\"\n",
    "    def __init__(self):\n",
    "        #self.p1=playerOne.points\n",
    "        #self.p2=playerTwo.points\n",
    "        self.choice=input(\"choice:\")\n",
    "        self.playerOne = Player()\n",
    "        self.playerTwo = Player()\n",
    "    #pass\n",
    "   # def getpoints(self):\n",
    "    #    if playerOne.winp1==True:\n",
    "      #      self.p1+=1\n",
    "     #   elif playerTwo.winp2==True:\n",
    "       #     self.p2+=1\n",
    "        #elif playerOne.winp1==True and playerTwo.winp2==True: \n",
    "         #   self.p2+=1\n",
    "          #  self.p1+=1\n",
    "    \n",
    "    def play(self):\n",
    "        #run the win checking \n",
    "        self.playerOne.choosesymbol()\n",
    "        self.playerTwo.choosesymbol()\n",
    "        \n",
    "rps=Gameround()\n",
    "rps.play()\n",
    "\n",
    "class Game:\n",
    "    \"\"\"\n",
    "    contains the game logic \n",
    "    cheking for wins and loses \n",
    "    \n",
    "    \n",
    "    \"\"\"\n",
    "    pass\n",
    "   \n",
    "        #pass\n",
    "    \n",
    "    \n",
    "\n",
    "\n",
    "        "
   ],
   "outputs": [
    {
     "output_type": "stream",
     "name": "stdout",
     "text": [
      "choice:r\n"
     ]
    },
    {
     "output_type": "error",
     "ename": "AttributeError",
     "evalue": "'Player' object has no attribute 'choosesymbol'",
     "traceback": [
      "\u001b[0;31m---------------------------------------------------------------------------\u001b[0m",
      "\u001b[0;31mAttributeError\u001b[0m                            Traceback (most recent call last)",
      "\u001b[0;32m<ipython-input-2-2fed9f295fd3>\u001b[0m in \u001b[0;36m<module>\u001b[0;34m\u001b[0m\n\u001b[1;32m     81\u001b[0m \u001b[0;34m\u001b[0m\u001b[0m\n\u001b[1;32m     82\u001b[0m \u001b[0mrps\u001b[0m\u001b[0;34m=\u001b[0m\u001b[0mGameround\u001b[0m\u001b[0;34m(\u001b[0m\u001b[0;34m)\u001b[0m\u001b[0;34m\u001b[0m\u001b[0;34m\u001b[0m\u001b[0m\n\u001b[0;32m---> 83\u001b[0;31m \u001b[0mrps\u001b[0m\u001b[0;34m.\u001b[0m\u001b[0mplay\u001b[0m\u001b[0;34m(\u001b[0m\u001b[0;34m)\u001b[0m\u001b[0;34m\u001b[0m\u001b[0;34m\u001b[0m\u001b[0m\n\u001b[0m\u001b[1;32m     84\u001b[0m \u001b[0;34m\u001b[0m\u001b[0m\n\u001b[1;32m     85\u001b[0m \u001b[0;32mclass\u001b[0m \u001b[0mGame\u001b[0m\u001b[0;34m:\u001b[0m\u001b[0;34m\u001b[0m\u001b[0;34m\u001b[0m\u001b[0m\n",
      "\u001b[0;32m<ipython-input-2-2fed9f295fd3>\u001b[0m in \u001b[0;36mplay\u001b[0;34m(self)\u001b[0m\n\u001b[1;32m     77\u001b[0m     \u001b[0;32mdef\u001b[0m \u001b[0mplay\u001b[0m\u001b[0;34m(\u001b[0m\u001b[0mself\u001b[0m\u001b[0;34m)\u001b[0m\u001b[0;34m:\u001b[0m\u001b[0;34m\u001b[0m\u001b[0;34m\u001b[0m\u001b[0m\n\u001b[1;32m     78\u001b[0m         \u001b[0;31m#run the win checking\u001b[0m\u001b[0;34m\u001b[0m\u001b[0;34m\u001b[0m\u001b[0;34m\u001b[0m\u001b[0m\n\u001b[0;32m---> 79\u001b[0;31m         \u001b[0mself\u001b[0m\u001b[0;34m.\u001b[0m\u001b[0mplayerOne\u001b[0m\u001b[0;34m.\u001b[0m\u001b[0mchoosesymbol\u001b[0m\u001b[0;34m(\u001b[0m\u001b[0;34m)\u001b[0m\u001b[0;34m\u001b[0m\u001b[0;34m\u001b[0m\u001b[0m\n\u001b[0m\u001b[1;32m     80\u001b[0m         \u001b[0mself\u001b[0m\u001b[0;34m.\u001b[0m\u001b[0mplayerTwo\u001b[0m\u001b[0;34m.\u001b[0m\u001b[0mchoosesymbol\u001b[0m\u001b[0;34m(\u001b[0m\u001b[0;34m)\u001b[0m\u001b[0;34m\u001b[0m\u001b[0;34m\u001b[0m\u001b[0m\n\u001b[1;32m     81\u001b[0m \u001b[0;34m\u001b[0m\u001b[0m\n",
      "\u001b[0;31mAttributeError\u001b[0m: 'Player' object has no attribute 'choosesymbol'"
     ]
    }
   ],
   "metadata": {}
  },
  {
   "cell_type": "markdown",
   "source": [
    "# inheritance"
   ],
   "metadata": {}
  },
  {
   "cell_type": "markdown",
   "source": [
    "the process by which a class takes the attributes and methods of another \n",
    "newly formaed classes are called child classes \n",
    "THe classes that child classes are derived form are called parent classes \n",
    " Through inheritance one can override methods and properties \n",
    " if a motherand a son have black hair ,,the son can dye the hair to red \n",
    " the son has overriden the black hair property to red \n",
    " \n",
    " More generally all objects created form a child cass areinstances of the parent \n",
    " class although theymat not be instances of other hild classes \n",
    " "
   ],
   "metadata": {}
  },
  {
   "cell_type": "code",
   "execution_count": 19,
   "source": [
    "class Dog:\n",
    "    species=\"cannis familiaris\"\n",
    "    def __init__(self,name,age,breed):\n",
    "        self.name=name\n",
    "        self.age=age\n",
    "        self.breed=breed\n",
    "    def walk(self):\n",
    "        return \"dog is walking\"\n",
    "        \n",
    "    def sound(self):\n",
    "        return \"dog is barking\"\n",
    "    \n",
    "        \n",
    "class Cat(Dog):\n",
    "    #extends class Dog\n",
    "    #there arealso catbreeds \n",
    "    \"\"\"\n",
    "    a cat will inherit the properties ofa dog \n",
    "    a cat has age \n",
    "    breed\n",
    "    name\n",
    "    it will also inherit the methods like\n",
    "    a catcan walk \n",
    "    a cat can make a sound \n",
    "    the methods will be overriden \n",
    "    \"\"\"\n",
    "    def __init__(self,name,age,breed,smallsize):\n",
    "        #super allows the parent class to handle the properties the child class extends\n",
    "        #super will handle name age and breed \n",
    "        #small size will be handled by class catinit method \n",
    "        super().__init__(name,age,breed)\n",
    "        #or parentclassName.__init__(self,name,age,breed)\n",
    "        #child class init will only handle initialisation of samllsize\n",
    "        self.smallsize=smallsize\n",
    "    def walk(self):\n",
    "        return \"cat is walking\"\n",
    "    def sound(self):\n",
    "        return \"cat meows\"\n",
    "            \n",
    "c=Cat('peps','5','maine','verysmall')    \n",
    "print(c.name)\n",
    "print(c.age)\n",
    "print(c.breed)\n",
    "print(c.walk())\n",
    "print(c.sound())\n",
    "print(c.smallsize)\n",
    "d=Dog('kambodia','6','labrado')\n",
    "print(d.name)\n",
    "print(d.breed)\n",
    "print(d.walk())\n",
    "print(d.sound())\n",
    "#throws an error \n",
    "print(d.smallsize)#dog object has no attribute smallsize \n",
    "        "
   ],
   "outputs": [
    {
     "output_type": "stream",
     "name": "stdout",
     "text": [
      "peps\n",
      "5\n",
      "maine\n",
      "cat is walking\n",
      "cat meows\n",
      "verysmall\n",
      "kambodia\n",
      "labrado\n",
      "dog is walking\n",
      "dog is barking\n"
     ]
    },
    {
     "output_type": "error",
     "ename": "AttributeError",
     "evalue": "'Dog' object has no attribute 'smallsize'",
     "traceback": [
      "\u001b[0;31m---------------------------------------------------------------------------\u001b[0m",
      "\u001b[0;31mAttributeError\u001b[0m                            Traceback (most recent call last)",
      "\u001b[0;32m<ipython-input-19-f9bb68360db6>\u001b[0m in \u001b[0;36m<module>\u001b[0;34m\u001b[0m\n\u001b[1;32m     50\u001b[0m \u001b[0mprint\u001b[0m\u001b[0;34m(\u001b[0m\u001b[0md\u001b[0m\u001b[0;34m.\u001b[0m\u001b[0mwalk\u001b[0m\u001b[0;34m(\u001b[0m\u001b[0;34m)\u001b[0m\u001b[0;34m)\u001b[0m\u001b[0;34m\u001b[0m\u001b[0;34m\u001b[0m\u001b[0m\n\u001b[1;32m     51\u001b[0m \u001b[0mprint\u001b[0m\u001b[0;34m(\u001b[0m\u001b[0md\u001b[0m\u001b[0;34m.\u001b[0m\u001b[0msound\u001b[0m\u001b[0;34m(\u001b[0m\u001b[0;34m)\u001b[0m\u001b[0;34m)\u001b[0m\u001b[0;34m\u001b[0m\u001b[0;34m\u001b[0m\u001b[0m\n\u001b[0;32m---> 52\u001b[0;31m \u001b[0mprint\u001b[0m\u001b[0;34m(\u001b[0m\u001b[0md\u001b[0m\u001b[0;34m.\u001b[0m\u001b[0msmallsize\u001b[0m\u001b[0;34m)\u001b[0m\u001b[0;31m#dog object has no attribute smallsize\u001b[0m\u001b[0;34m\u001b[0m\u001b[0;34m\u001b[0m\u001b[0m\n\u001b[0m\u001b[1;32m     53\u001b[0m \u001b[0;34m\u001b[0m\u001b[0m\n",
      "\u001b[0;31mAttributeError\u001b[0m: 'Dog' object has no attribute 'smallsize'"
     ]
    }
   ],
   "metadata": {}
  },
  {
   "cell_type": "markdown",
   "source": [
    "Dunder methods are used for when you dont need an invocaton\n",
    "they call them selves they are also used during operator overloading \n",
    "eg the add operation and the concantenation of a string \n"
   ],
   "metadata": {}
  },
  {
   "cell_type": "code",
   "execution_count": 23,
   "source": [
    "class Dunder(object):\n",
    "\t#use of dunder methods \n",
    "\tdef __init__(self ,firstName,secondName):\n",
    "\t\tself.firstName=firstName\n",
    "\t\tself.secondName=secondName\n",
    "\tdef __len__(self):\n",
    "\t\t#can be used to get the length of our objects name \n",
    "\t\treturn len(self.firstName)\n",
    "\tdef __str__(self):\n",
    "\t\treturn f\"{self.firstName}{self.secondName}\"\t\n",
    "emp1=Dunder('Richard ','Hendricks')\n",
    "#returns the legth of the firt name \n",
    "\n",
    "print(len(emp1))\t\n",
    "print(emp1)\t\t\n",
    "#used to print the conatenated format of the last name and the mlast name "
   ],
   "outputs": [
    {
     "output_type": "stream",
     "name": "stdout",
     "text": [
      "8\n",
      "Richard Hendricks\n"
     ]
    }
   ],
   "metadata": {}
  },
  {
   "cell_type": "code",
   "execution_count": null,
   "source": [],
   "outputs": [],
   "metadata": {}
  },
  {
   "cell_type": "markdown",
   "source": [
    "The @classmethod decoator is a biuilt in function decorator that is an expression that gets eveluated after your function is defined\n",
    "The eresults of that evaluiation shadows your function definition \n",
    "A class method rev=cieves the class as implicit first argumentjust like an instance method recieves the instance \n",
    "A class method is bound to the class and not the object of the class \n",
    "They have access to the state of the class as it takes a class arameter thatpoints to the class and not the object instance \n",
    "It could moify a class var thatwill be applicable to all the instnces \n",
    "\n",
    "STATIC METHODS \n",
    "@staticmethod\n",
    "is bound to the class and not the object instance \n",
    "\n",
    "class methods vs static methods \n",
    "->class methods take cls as the first param\n",
    "->class methods can modify the class state \n",
    "->we use @class method decoator and @staticmethod decorator to create them \n"
   ],
   "metadata": {}
  },
  {
   "cell_type": "code",
   "execution_count": 40,
   "source": [
    "#demonstartion\n",
    "from datetime import date\n",
    "class NbaPlayer(object):\n",
    "\tdef __init__(self,name,vertical,age):\n",
    "\t\tself.name=name\n",
    "\t\tself.vertical=vertical\n",
    "\t\tself.age=age\n",
    "\t@classmethod\n",
    "\tdef fromBithYear(cls,name,year):\n",
    "\t\treturn cls(name,2020-year)\n",
    "\n",
    "\t#a static methos to check any persons age \t\n",
    "\t@staticmethod\n",
    "\tdef isAdult(age):\n",
    "\t\tif age>18:\n",
    "\t\t\treturn 'he is an adult'\n",
    "\t\telse:\n",
    "\t\t\treturn 'he is a minor'\t\t\t\n",
    "p1=NbaPlayer('steph',10,32)\n",
    "p2=NbaPlayer('klay',40,30)\n",
    "#p2=NbaPlayer.fromBithYear('steph',2000)\n",
    "print(p1.isAdult(32))\n",
    "print(p2.age);"
   ],
   "outputs": [
    {
     "output_type": "stream",
     "name": "stdout",
     "text": [
      "he is an adult\n",
      "30\n"
     ]
    }
   ],
   "metadata": {}
  },
  {
   "cell_type": "code",
   "execution_count": 61,
   "source": [
    "#property decorator \n",
    "'''\n",
    "property decorator \n",
    "@property \n",
    "part1\n",
    "1.allow as to use class methods as attributes \n",
    "2.create the setter method and the getter method \n",
    "'''\n",
    "class PropertDEmostratiion(object):\n",
    "\t#demonstarion of the property decorator \n",
    "\tdef __init__(self,name,grade):\n",
    "\t\tself.name=name\n",
    "\t\tself.grade=grade\n",
    "\n",
    "\t@property\t\n",
    "\tdef message(self):\t\n",
    "\t\t#allow the usage of a method as an attribute \n",
    "\t\treturn self.name+\"got grade\"+self.grade\n",
    "\t@message.setter\t\n",
    "\tdef message(self,msg):\n",
    "\t\tsent=msg.split(\" \")\n",
    "\t\tself.name=sent[0]\n",
    "\t\tself.grade=sent[-1]\n",
    "\n",
    "stud1=PropertDEmostratiion('richard','A')\t\n",
    "#stud1.grade=\"B\"\n",
    "stud1.message='Gilfoyle got an A'\n",
    "print(stud1.name)\n",
    "print(stud1.grade,'\\n')\n",
    "print(stud1.message)\t"
   ],
   "outputs": [
    {
     "output_type": "stream",
     "name": "stdout",
     "text": [
      "Gilfoyle\n",
      "A \n",
      "\n",
      "Gilfoylegot gradeA\n"
     ]
    }
   ],
   "metadata": {}
  },
  {
   "cell_type": "code",
   "execution_count": 84,
   "source": [
    "\"\"\"\n",
    "property decorator \n",
    "allows data encapsulation \n",
    "use two underscores  to signify that the varis private\n",
    "allows as to use a method as aan attribute \n",
    "\n",
    "part2 \n",
    "\n",
    "\"\"\"\n",
    "class Student(object):\n",
    "\tdef __init__(self,mark):\n",
    "\t\tself.__mark=mark\n",
    "\tdef percentage(self):\n",
    "\t\treturn (self.__mark/600)*100\n",
    "\t@property\n",
    "\tdef marks(self):\n",
    "\t\treturn self.__mark\t\n",
    "\t@marks.setter\t\t\n",
    "\tdef marks(self,val):\n",
    "\t\tself.__mark=val\n",
    "\n",
    "\n",
    "stud=Student(400)\n",
    "#the method marks can now be used as an attribute \n",
    "#plus achieving encapsulation through data hiding \n",
    "stud.marks=500\n",
    "#print(stud.__mark)\t\t\n",
    "print(stud.percentage(),\"%\")\n"
   ],
   "outputs": [
    {
     "output_type": "stream",
     "name": "stdout",
     "text": [
      "83.33333333333334 %\n"
     ]
    }
   ],
   "metadata": {}
  },
  {
   "cell_type": "code",
   "execution_count": null,
   "source": [],
   "outputs": [],
   "metadata": {}
  },
  {
   "cell_type": "markdown",
   "source": [
    "---Error Handling In Python---\n",
    "Error in python can be of two types syntax and exceptions \n",
    "Exceptions are raised when internal events occur which changes the normal floww \n",
    "of the program \n"
   ],
   "metadata": {}
  },
  {
   "cell_type": "code",
   "execution_count": 107,
   "source": [
    "class Quontient(object):\n",
    "\tdef __init__(self,num,val):\n",
    "\t\tself.val=val\n",
    "\t\tself.num=num\n",
    "\t@property\n",
    "\tdef calculate(self):\n",
    "\t\ttry:\n",
    "\t\t\treturn self.num/self.val\t\n",
    "\t\texcept :\n",
    "\t\t\treturn 'zero division'\n",
    "\t\t# finally:\n",
    "\t\t# \treturn \"you cant devide a number by zero \"\t\t\n",
    "\t@calculate.setter\n",
    "\tdef calculate(self,val):\n",
    "\t\ttry:\n",
    "\t\t\tif val<1:\n",
    "\t\t\t\tself.val=1\n",
    "\t\t\t\tprint(self.val)\n",
    "\n",
    "\t\t\telse:\n",
    "\t\t\t\tself.val=val\t \t\n",
    "\t\texcept:\n",
    "\t\t\treturn 'error!'\n",
    "q=Quontient(45,0)\n",
    "q.calculate='6'\n",
    "print(q.calculate)"
   ],
   "outputs": [
    {
     "output_type": "stream",
     "name": "stdout",
     "text": [
      "zero division\n"
     ]
    }
   ],
   "metadata": {}
  },
  {
   "cell_type": "markdown",
   "source": [
    "KEY WORD ARGUMENTS \n",
    "\n",
    "Parameters are input variables boundes by paranthensis\n",
    "arguments are values assighned \n"
   ],
   "metadata": {}
  }
 ],
 "metadata": {
  "interpreter": {
   "hash": "f9f85f796d01129d0dd105a088854619f454435301f6ffec2fea96ecbd9be4ac"
  },
  "kernelspec": {
   "name": "python3",
   "display_name": "Python 3.9.6 64-bit"
  },
  "language_info": {
   "codemirror_mode": {
    "name": "ipython",
    "version": 3
   },
   "file_extension": ".py",
   "mimetype": "text/x-python",
   "name": "python",
   "nbconvert_exporter": "python",
   "pygments_lexer": "ipython3",
   "version": "3.9.6"
  }
 },
 "nbformat": 4,
 "nbformat_minor": 2
}