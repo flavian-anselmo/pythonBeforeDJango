{
 "cells": [
  {
   "cell_type": "markdown",
   "source": [
    "# Unknown Number of Arguments\n",
    "@anselmoFlavian"
   ],
   "metadata": {}
  },
  {
   "cell_type": "markdown",
   "source": [
    "Afunction in python can have an unknown number of arguments by putting * before the parameters if one does not know the number of arguments \n",
    "the user is going to pass \n"
   ],
   "metadata": {}
  },
  {
   "cell_type": "code",
   "execution_count": 1,
   "source": [
    "class fun:\n",
    "    #without the asteric an error is thrown\n",
    "    def foo(self,*names):\n",
    "        return names\n",
    "    \n",
    "        \n",
    "f=fun()\n",
    "print(f.foo(\"anselmo\",\"flavian\"))\n",
    "\n"
   ],
   "outputs": [
    {
     "output_type": "error",
     "ename": "TypeError",
     "evalue": "foo() takes 2 positional arguments but 3 were given",
     "traceback": [
      "\u001b[0;31m---------------------------------------------------------------------------\u001b[0m",
      "\u001b[0;31mTypeError\u001b[0m                                 Traceback (most recent call last)",
      "\u001b[0;32m/tmp/ipykernel_23430/3732805347.py\u001b[0m in \u001b[0;36m<module>\u001b[0;34m\u001b[0m\n\u001b[1;32m      6\u001b[0m \u001b[0;34m\u001b[0m\u001b[0m\n\u001b[1;32m      7\u001b[0m \u001b[0mf\u001b[0m\u001b[0;34m=\u001b[0m\u001b[0mfun\u001b[0m\u001b[0;34m(\u001b[0m\u001b[0;34m)\u001b[0m\u001b[0;34m\u001b[0m\u001b[0;34m\u001b[0m\u001b[0m\n\u001b[0;32m----> 8\u001b[0;31m \u001b[0mprint\u001b[0m\u001b[0;34m(\u001b[0m\u001b[0mf\u001b[0m\u001b[0;34m.\u001b[0m\u001b[0mfoo\u001b[0m\u001b[0;34m(\u001b[0m\u001b[0;34m\"anselmo\"\u001b[0m\u001b[0;34m,\u001b[0m\u001b[0;34m\"flavian\"\u001b[0m\u001b[0;34m)\u001b[0m\u001b[0;34m)\u001b[0m\u001b[0;34m\u001b[0m\u001b[0;34m\u001b[0m\u001b[0m\n\u001b[0m\u001b[1;32m      9\u001b[0m \u001b[0;34m\u001b[0m\u001b[0m\n",
      "\u001b[0;31mTypeError\u001b[0m: foo() takes 2 positional arguments but 3 were given"
     ]
    }
   ],
   "metadata": {}
  },
  {
   "cell_type": "code",
   "execution_count": 35,
   "source": [
    "class fun:\n",
    "    #without the asteric an error is thrown\n",
    "    def __init__(self,*names):\n",
    "        self.names=names\n",
    "    def foo(self,*names):\n",
    "        return names\n",
    "    def getlist(self):\n",
    "        for i in self.names:\n",
    "               print(i)\n",
    "        \n",
    "f=fun(\"hendricks\",\"gilfoyle\",\"bigetti\")\n",
    "print(f.foo(\"anselmo\",\"flavian\"))\n",
    "#returns tuple \n",
    "print(f.getlist())"
   ],
   "outputs": [
    {
     "output_type": "stream",
     "name": "stdout",
     "text": [
      "('anselmo', 'flavian')\n",
      "hendricks\n",
      "gilfoyle\n",
      "bigetti\n",
      "None\n"
     ]
    }
   ],
   "metadata": {}
  },
  {
   "cell_type": "markdown",
   "source": [
    "# Function with Keyword Arguments"
   ],
   "metadata": {}
  },
  {
   "cell_type": "markdown",
   "source": [
    "in order to call a function with arguments the same number of  arguments must be provided However a function can be called y passing parameters values in order\n",
    "\n",
    "THis acts as named parameters in languages like dart and java "
   ],
   "metadata": {}
  },
  {
   "cell_type": "code",
   "execution_count": 20,
   "source": [
    "class key:\n",
    "    def __init__(self,first,last):\n",
    "        self.first=first\n",
    "        self.last=last\n",
    "    def greet(self):\n",
    "        return \"hello \"+self.first+\" \"+self.last\n",
    "g=key(last=\"Richard\",first=\"Hendricks\")\n",
    "print(g.greet())\n",
    "        "
   ],
   "outputs": [
    {
     "output_type": "stream",
     "name": "stdout",
     "text": [
      "hello Hendricks Richard\n"
     ]
    }
   ],
   "metadata": {}
  },
  {
   "cell_type": "markdown",
   "source": [
    "# Keyword Argument **kwarg"
   ],
   "metadata": {}
  },
  {
   "cell_type": "markdown",
   "source": [
    "THe functiion cann have a single parameter prefixed with **\n",
    "this type of parameter initialise to a new order mapping \n",
    "recieving any excess keywordarguments defaulting to a new empty \n",
    "mapping of the same type \n",
    "\n",
    "parameter_name['keyword_argument']\n",
    "**kwargs generates a dictionary or a hash map to store values in keyword pairs \n",
    "the key=value when calling the function ....the key will be used to  get the values \n"
   ],
   "metadata": {}
  },
  {
   "cell_type": "code",
   "execution_count": 21,
   "source": [
    "class kwarg:\n",
    "    def getnames(self,**name):\n",
    "        return \"Hello \"+name['first']+\" \"+name['last']\n",
    "k=kwarg()\n",
    "print(k.getnames(first=\"Dinesh\",last=\"chuktai\"))"
   ],
   "outputs": [
    {
     "output_type": "stream",
     "name": "stdout",
     "text": [
      "Hello Dinesh chuktai\n"
     ]
    }
   ],
   "metadata": {}
  },
  {
   "cell_type": "markdown",
   "source": [
    "# using **kwargs when writng functions "
   ],
   "metadata": {}
  },
  {
   "cell_type": "code",
   "execution_count": 33,
   "source": [
    "class Funkwargs(object):\n",
    "    def fun(self,**kwargs):\n",
    "        print(kwargs)\n",
    "    #def bar(self):\n",
    "        for key in kwargs:\n",
    "            print(\"key={},value={}\".format(key,kwargs[key]))\n",
    "            #print(key)\n",
    "            #print(kwargs[key])\n",
    "obj=Funkwargs()\n",
    "#returns a dictionary of kwargs passed duirng the call\n",
    "#this means we can loop throuhh the dict and return the values \n",
    "obj.fun(a='1',b='2',c='3',d='4')\n",
    "\n"
   ],
   "outputs": [
    {
     "output_type": "stream",
     "name": "stdout",
     "text": [
      "{'a': '1', 'b': '2', 'c': '3', 'd': '4'}\n",
      "key=a,value=1\n",
      "key=b,value=2\n",
      "key=c,value=3\n",
      "key=d,value=4\n"
     ]
    }
   ],
   "metadata": {}
  },
  {
   "cell_type": "markdown",
   "source": [
    "# populating kwargs with a dictionary"
   ],
   "metadata": {}
  },
  {
   "cell_type": "code",
   "execution_count": 40,
   "source": [
    "class Cls(object):\n",
    "    def foobar(self,foo=None,bar=None):\n",
    "        return \"{},{}\".format(foo ,bar)\n",
    "c=Cls()\n",
    "kwargs={\"foo\":\"foooo\",\"bar\":\"baaaar\"}\n",
    "#using the kwargs dictionary to populate the values \n",
    "\n",
    "c.foobar(**kwargs)\n",
    "#access the values in the dictionary \n",
    "for key in kwargs:\n",
    "    #acces the key value pairs \n",
    "    #through the key we get the value \n",
    "    print(\"key={},value={}\".format(key,kwargs[key]))\n",
    "\"\"\"\n",
    "when using kwargs to call the functions \n",
    "we can use dictionaries to assign the values \n",
    "to the function param \n",
    "-using the param name as keys in the dict and the values \n",
    "of these args as bound to the respective key \n",
    "\"\"\"    "
   ],
   "outputs": [
    {
     "output_type": "stream",
     "name": "stdout",
     "text": [
      "key=foo,value=foooo\n",
      "key=bar,value=baaaar\n"
     ]
    }
   ],
   "metadata": {}
  },
  {
   "cell_type": "code",
   "execution_count": 44,
   "source": [
    "def foo(*args,**kwargs):\n",
    "    print(args)\n",
    "    print(kwargs)\n",
    "    #when using both the kwargs and the args \n",
    "    #pass arbitary number of args with no restriction\n",
    "foo('name','age',dev='richard',engineer='gilfoyle')\n"
   ],
   "outputs": [
    {
     "output_type": "stream",
     "name": "stdout",
     "text": [
      "('name', 'age')\n",
      "{'dev': 'richard', 'engineer': 'gilfoyle'}\n"
     ]
    }
   ],
   "metadata": {}
  },
  {
   "cell_type": "code",
   "execution_count": 55,
   "source": [
    "def test_func(arg1,arg2,arg3):\n",
    "    print(arg1)\n",
    "    print(arg2)\n",
    "    print(arg3)\n",
    "#use of kwargs when calling a func    \n",
    "kwargs={\"arg1\":1,\"arg2\":2,\"arg3\":3}\n",
    "test_func(**kwargs)\n",
    "kwargs2={\"arg2\":40,\"arg3\":50}\n",
    "#bind the first arg to a specific value at function call \n",
    "test_func(60,**kwargs2)"
   ],
   "outputs": [
    {
     "output_type": "stream",
     "name": "stdout",
     "text": [
      "1\n",
      "2\n",
      "3\n",
      "60\n",
      "40\n",
      "50\n"
     ]
    }
   ],
   "metadata": {}
  },
  {
   "cell_type": "code",
   "execution_count": null,
   "source": [],
   "outputs": [],
   "metadata": {}
  }
 ],
 "metadata": {
  "kernelspec": {
   "name": "python3",
   "display_name": "Python 3.9.6 64-bit"
  },
  "language_info": {
   "codemirror_mode": {
    "name": "ipython",
    "version": 3
   },
   "file_extension": ".py",
   "mimetype": "text/x-python",
   "name": "python",
   "nbconvert_exporter": "python",
   "pygments_lexer": "ipython3",
   "version": "3.9.6"
  },
  "interpreter": {
   "hash": "f9f85f796d01129d0dd105a088854619f454435301f6ffec2fea96ecbd9be4ac"
  }
 },
 "nbformat": 4,
 "nbformat_minor": 5
}