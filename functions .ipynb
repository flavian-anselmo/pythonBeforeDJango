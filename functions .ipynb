{
 "cells": [
  {
   "cell_type": "markdown",
   "id": "weighted-patient",
   "metadata": {},
   "source": [
    "# Unknown Number of Arguments\n",
    "@anselmoFlavian"
   ]
  },
  {
   "cell_type": "markdown",
   "id": "modern-customer",
   "metadata": {},
   "source": [
    "Afunction in python can have an unknown number of arguments by putting * before the parameters if one does not know the number of arguments \n",
    "the user is going to pass \n"
   ]
  },
  {
   "cell_type": "code",
   "execution_count": 5,
   "id": "expanded-bracelet",
   "metadata": {},
   "outputs": [
    {
     "name": "stdout",
     "output_type": "stream",
     "text": [
      "('anselmo', 'flavian')\n"
     ]
    }
   ],
   "source": [
    "class fun:\n",
    "    #without the asteric an error is thrown\n",
    "    def foo(self,*names):\n",
    "        return names\n",
    "    \n",
    "        \n",
    "f=fun()\n",
    "print(f.foo(\"anselmo\",\"flavian\"))\n",
    "\n"
   ]
  },
  {
   "cell_type": "code",
   "execution_count": 35,
   "id": "ranging-accounting",
   "metadata": {},
   "outputs": [
    {
     "name": "stdout",
     "output_type": "stream",
     "text": [
      "('anselmo', 'flavian')\n",
      "hendricks\n",
      "gilfoyle\n",
      "bigetti\n",
      "None\n"
     ]
    }
   ],
   "source": [
    "class fun:\n",
    "    #without the asteric an error is thrown\n",
    "    def __init__(self,*names):\n",
    "        self.names=names\n",
    "    def foo(self,*names):\n",
    "        return names\n",
    "    def getlist(self):\n",
    "        for i in self.names:\n",
    "               print(i)\n",
    "        \n",
    "f=fun(\"hendricks\",\"gilfoyle\",\"bigetti\")\n",
    "print(f.foo(\"anselmo\",\"flavian\"))\n",
    "#returns tuple \n",
    "print(f.getlist())"
   ]
  },
  {
   "cell_type": "markdown",
   "id": "random-syracuse",
   "metadata": {},
   "source": [
    "# Function with Keyword Arguments"
   ]
  },
  {
   "cell_type": "markdown",
   "id": "determined-thailand",
   "metadata": {},
   "source": [
    "in order to call a function with arguments the same number of  arguments must be provided However a function can be called y passing parameters values in order\n",
    "\n",
    "THis acts as named parameters in languages like dart and java "
   ]
  },
  {
   "cell_type": "code",
   "execution_count": 20,
   "id": "southern-responsibility",
   "metadata": {},
   "outputs": [
    {
     "name": "stdout",
     "output_type": "stream",
     "text": [
      "hello Hendricks Richard\n"
     ]
    }
   ],
   "source": [
    "class key:\n",
    "    def __init__(self,first,last):\n",
    "        self.first=first\n",
    "        self.last=last\n",
    "    def greet(self):\n",
    "        return \"hello \"+self.first+\" \"+self.last\n",
    "g=key(last=\"Richard\",first=\"Hendricks\")\n",
    "print(g.greet())\n",
    "        "
   ]
  },
  {
   "cell_type": "markdown",
   "id": "allied-certificate",
   "metadata": {},
   "source": [
    "# Keyword Argument **kwarg"
   ]
  },
  {
   "cell_type": "markdown",
   "id": "instrumental-chamber",
   "metadata": {},
   "source": [
    "THe functiion cann have a single parameter prefixed with **\n",
    "this type of parameter initialise to a new order mapping \n",
    "recieving any excess keywordarguments defaulting to a new empty \n",
    "mapping of the same type \n",
    "\n",
    "parameter_name['keyword_argument']\n",
    "**kwargs generates a dictionary or a hash map to store values in keyword pairs \n",
    "the key=value when calling the function ....the key will be used to  get the values \n"
   ]
  },
  {
   "cell_type": "code",
   "execution_count": 21,
   "id": "extended-merchant",
   "metadata": {},
   "outputs": [
    {
     "name": "stdout",
     "output_type": "stream",
     "text": [
      "Hello Dinesh chuktai\n"
     ]
    }
   ],
   "source": [
    "class kwarg:\n",
    "    def getnames(self,**name):\n",
    "        return \"Hello \"+name['first']+\" \"+name['last']\n",
    "k=kwarg()\n",
    "print(k.getnames(first=\"Dinesh\",last=\"chuktai\"))"
   ]
  },
  {
   "cell_type": "markdown",
   "id": "smoking-extraction",
   "metadata": {},
   "source": [
    "# using **kwargs when writng functions "
   ]
  },
  {
   "cell_type": "code",
   "execution_count": 33,
   "id": "according-joyce",
   "metadata": {},
   "outputs": [
    {
     "name": "stdout",
     "output_type": "stream",
     "text": [
      "{'a': '1', 'b': '2', 'c': '3', 'd': '4'}\n",
      "key=a,value=1\n",
      "key=b,value=2\n",
      "key=c,value=3\n",
      "key=d,value=4\n"
     ]
    }
   ],
   "source": [
    "class Funkwargs(object):\n",
    "    def fun(self,**kwargs):\n",
    "        print(kwargs)\n",
    "    #def bar(self):\n",
    "        for key in kwargs:\n",
    "            print(\"key={},value={}\".format(key,kwargs[key]))\n",
    "            #print(key)\n",
    "            #print(kwargs[key])\n",
    "obj=Funkwargs()\n",
    "#returns a dictionary of kwargs passed duirng the call\n",
    "#this means we can loop throuhh the dict and return the values \n",
    "obj.fun(a='1',b='2',c='3',d='4')\n",
    "\n"
   ]
  },
  {
   "cell_type": "markdown",
   "id": "satisfied-independence",
   "metadata": {},
   "source": [
    "# populating kwargs with a dictionary"
   ]
  },
  {
   "cell_type": "code",
   "execution_count": 40,
   "id": "divine-investigator",
   "metadata": {},
   "outputs": [
    {
     "name": "stdout",
     "output_type": "stream",
     "text": [
      "key=foo,value=foooo\n",
      "key=bar,value=baaaar\n"
     ]
    }
   ],
   "source": [
    "class Cls(object):\n",
    "    def foobar(self,foo=None,bar=None):\n",
    "        return \"{},{}\".format(foo ,bar)\n",
    "c=Cls()\n",
    "kwargs={\"foo\":\"foooo\",\"bar\":\"baaaar\"}\n",
    "#using the kwargs dictionary to populate the values \n",
    "\n",
    "c.foobar(**kwargs)\n",
    "#access the values in the dictionary \n",
    "for key in kwargs:\n",
    "    #acces the key value pairs \n",
    "    #through the key we get the value \n",
    "    print(\"key={},value={}\".format(key,kwargs[key]))\n",
    "\"\"\"\n",
    "when using kwargs to call the functions \n",
    "we can use dictionaries to assign the values \n",
    "to the function param \n",
    "-using the param name as keys in the dict and the values \n",
    "of these args as bound to the respective key \n",
    "\"\"\"    "
   ]
  },
  {
   "cell_type": "code",
   "execution_count": 44,
   "id": "dense-blast",
   "metadata": {},
   "outputs": [
    {
     "name": "stdout",
     "output_type": "stream",
     "text": [
      "('name', 'age')\n",
      "{'dev': 'richard', 'engineer': 'gilfoyle'}\n"
     ]
    }
   ],
   "source": [
    "def foo(*args,**kwargs):\n",
    "    print(args)\n",
    "    print(kwargs)\n",
    "    #when using both the kwargs and the args \n",
    "    #pass arbitary number of args with no restriction\n",
    "foo('name','age',dev='richard',engineer='gilfoyle')\n"
   ]
  },
  {
   "cell_type": "code",
   "execution_count": 55,
   "id": "mighty-africa",
   "metadata": {},
   "outputs": [
    {
     "name": "stdout",
     "output_type": "stream",
     "text": [
      "1\n",
      "2\n",
      "3\n",
      "60\n",
      "40\n",
      "50\n"
     ]
    }
   ],
   "source": [
    "def test_func(arg1,arg2,arg3):\n",
    "    print(arg1)\n",
    "    print(arg2)\n",
    "    print(arg3)\n",
    "#use of kwargs when calling a func    \n",
    "kwargs={\"arg1\":1,\"arg2\":2,\"arg3\":3}\n",
    "test_func(**kwargs)\n",
    "kwargs2={\"arg2\":40,\"arg3\":50}\n",
    "#bind the first arg to a specific value at function call \n",
    "test_func(60,**kwargs2)"
   ]
  },
  {
   "cell_type": "code",
   "execution_count": null,
   "id": "starting-olive",
   "metadata": {},
   "outputs": [],
   "source": []
  }
 ],
 "metadata": {
  "kernelspec": {
   "display_name": "Python 3 (ipykernel)",
   "language": "python",
   "name": "python3"
  },
  "language_info": {
   "codemirror_mode": {
    "name": "ipython",
    "version": 3
   },
   "file_extension": ".py",
   "mimetype": "text/x-python",
   "name": "python",
   "nbconvert_exporter": "python",
   "pygments_lexer": "ipython3",
   "version": "3.8.10"
  }
 },
 "nbformat": 4,
 "nbformat_minor": 5
}
