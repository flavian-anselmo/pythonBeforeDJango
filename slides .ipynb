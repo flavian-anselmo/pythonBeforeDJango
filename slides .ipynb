{
 "cells": [
  {
   "cell_type": "code",
   "execution_count": 64,
   "source": [
    "\n",
    "player=['Stephen Curry ','Demar Derozen']\n",
    "print(player)\n",
    "player.append('camelo')\n",
    "print(player)\n",
    "print(player[:-1])\n",
    "#looping \n",
    "for i in player:\n",
    "    print(i)\n",
    "for i in range(len(player)):\n",
    "    print(player[i])    "
   ],
   "outputs": [
    {
     "output_type": "stream",
     "name": "stdout",
     "text": [
      "['Stephen Curry ', 'Demar Derozen']\n",
      "['Stephen Curry ', 'Demar Derozen', 'camelo']\n",
      "['Stephen Curry ', 'Demar Derozen']\n",
      "Stephen Curry \n",
      "Demar Derozen\n",
      "camelo\n",
      "0\n",
      "1\n",
      "2\n"
     ]
    }
   ],
   "metadata": {}
  },
  {
   "cell_type": "code",
   "execution_count": 55,
   "source": [
    "\n",
    "players={\n",
    "\t'curry':'golden state',\n",
    "\t'durant':'brooklyn',\n",
    "\t'lamelo':'honets',\n",
    "}\n",
    "teams ={\n",
    "\t'0':'gsw',\n",
    "\t'1':'okc'\n",
    "}\n",
    "#merging two dictionaries \n",
    "merge={**teams, **players}\n",
    "print(merge)\n",
    "\n",
    "print(players)\n",
    "players['curry']='GSW'\n",
    "print(players.__getitem__('curry'))\n",
    "del players['lamelo']\n",
    "print(players)\n",
    "players.clear()\n",
    "print(players)\n",
    "\n"
   ],
   "outputs": [
    {
     "output_type": "stream",
     "name": "stdout",
     "text": [
      "{'0': 'gsw', '1': 'okc', 'curry': 'golden state', 'durant': 'brooklyn', 'lamelo': 'honets'}\n",
      "{'curry': 'golden state', 'durant': 'brooklyn', 'lamelo': 'honets'}\n",
      "GSW\n",
      "{'curry': 'GSW', 'durant': 'brooklyn'}\n",
      "{}\n"
     ]
    }
   ],
   "metadata": {}
  },
  {
   "cell_type": "code",
   "execution_count": 4,
   "source": [
    "def DisolayList(players):\n",
    "    print(players)\n",
    "players=['curry','kyrie','Siakam']\n",
    "DisolayList(players)"
   ],
   "outputs": [
    {
     "output_type": "stream",
     "name": "stdout",
     "text": [
      "['curry', 'kyrie', 'Siakam']\n"
     ]
    }
   ],
   "metadata": {}
  },
  {
   "cell_type": "code",
   "execution_count": 8,
   "source": [
    "def func(*positions):\n",
    "    print(positions)\n",
    "func('point gaurd','shooting guard ')    \n",
    "#returns a tuple "
   ],
   "outputs": [
    {
     "output_type": "stream",
     "name": "stdout",
     "text": [
      "('point gaurd', 'shooting guard ')\n"
     ]
    }
   ],
   "metadata": {}
  },
  {
   "cell_type": "code",
   "execution_count": 10,
   "source": [
    "def func(**kwargs):\n",
    "    print(kwargs)\n",
    "func(name='anselmo',age='19',position='shooting guard')    \n",
    "#returns a dictionary \n"
   ],
   "outputs": [
    {
     "output_type": "stream",
     "name": "stdout",
     "text": [
      "{'name': 'anselmo', 'age': '19', 'position': 'shooting guard'}\n"
     ]
    }
   ],
   "metadata": {}
  },
  {
   "cell_type": "code",
   "execution_count": 19,
   "source": [
    "def func(required, *args,**kwargs):\n",
    "    print(args,kwargs)\n",
    "func('dev',name='anselmo') \n",
    "func('required ')  \n",
    "#returns a tuple and a dictionary  "
   ],
   "outputs": [
    {
     "output_type": "stream",
     "name": "stdout",
     "text": [
      "() {'name': 'anselmo'}\n",
      "() {}\n"
     ]
    }
   ],
   "metadata": {}
  },
  {
   "cell_type": "code",
   "execution_count": 35,
   "source": [
    "class Car:\n",
    "    def __init__(self,name):\n",
    "        self.name=name\n",
    "    def get_name(self):\n",
    "        return f\"{self.name}\"\n",
    "\n",
    "    def __str__(self):\n",
    "        return self.name\n",
    "c=Car('subaru') \n",
    "print(c) \n",
    "print(c.get_name())   \n",
    "isinstance(c,Car)\n",
    "  "
   ],
   "outputs": [
    {
     "output_type": "stream",
     "name": "stdout",
     "text": [
      "subaru\n",
      "subaru\n"
     ]
    },
    {
     "output_type": "execute_result",
     "data": {
      "text/plain": [
       "True"
      ]
     },
     "metadata": {},
     "execution_count": 35
    }
   ],
   "metadata": {}
  },
  {
   "cell_type": "code",
   "execution_count": null,
   "source": [
    "#class definition in python\n",
    "class NBA:\n",
    "    pass\n",
    "#the pass keyword is a null statement \n",
    "#it acts as the place holder "
   ],
   "outputs": [],
   "metadata": {}
  },
  {
   "cell_type": "code",
   "execution_count": 36,
   "source": [
    "class Sport:\n",
    "    def __init__(self,team_name,sport):\n",
    "        self.team_name=team_name\n",
    "        self.sport=sport\n",
    "    def get_info(self):\n",
    "        return f\"{self.team_name} is a {self.sport} team\"\n",
    "t=Sport('GSW','basketball')  \n",
    "t=t.get_info() \n",
    "print(t)    \n",
    "\n",
    " "
   ],
   "outputs": [
    {
     "output_type": "stream",
     "name": "stdout",
     "text": [
      "GSW is a basketball team\n"
     ]
    }
   ],
   "metadata": {}
  },
  {
   "cell_type": "code",
   "execution_count": 39,
   "source": [
    "class NBA:\n",
    "    def __init__(self,name):\n",
    "        self.name=name\n",
    "    def run(self):\n",
    "        return f\"{self.name} is running \"    \n",
    "player=NBA('LAMELO') \n",
    "p=player.run()       \n",
    "print(p)\n",
    "class Football(NBA):\n",
    "    #inheriting the __init__methos \n",
    "    def __init__(self,name):\n",
    "        super().__init__(name)\n",
    "    def run(self):\n",
    "        return f\"{self.name} is running \" \n",
    "fplayer=Football('nate ultrich ')    \n",
    "f=fplayer.run()\n",
    "print(f)\n",
    "   "
   ],
   "outputs": [
    {
     "output_type": "stream",
     "name": "stdout",
     "text": [
      "LAMELO is running \n",
      "nate ultrich  is running \n"
     ]
    }
   ],
   "metadata": {}
  },
  {
   "cell_type": "code",
   "execution_count": 63,
   "source": [
    "import random\n",
    "l=[1,2,3,4]\n",
    "print(random.choices(l))\n",
    "\n"
   ],
   "outputs": [
    {
     "output_type": "stream",
     "name": "stdout",
     "text": [
      "[4]\n"
     ]
    }
   ],
   "metadata": {}
  }
 ],
 "metadata": {
  "interpreter": {
   "hash": "f9f85f796d01129d0dd105a088854619f454435301f6ffec2fea96ecbd9be4ac"
  },
  "kernelspec": {
   "name": "python3",
   "display_name": "Python 3.9.6 64-bit"
  },
  "language_info": {
   "codemirror_mode": {
    "name": "ipython",
    "version": 3
   },
   "file_extension": ".py",
   "mimetype": "text/x-python",
   "name": "python",
   "nbconvert_exporter": "python",
   "pygments_lexer": "ipython3",
   "version": "3.9.6"
  }
 },
 "nbformat": 4,
 "nbformat_minor": 5
}