{
 "cells": [
  {
   "cell_type": "markdown",
   "source": [
    "#seraching algorithms\n"
   ],
   "metadata": {}
  },
  {
   "cell_type": "markdown",
   "source": [
    "Searching algos are designed to check for an element or retrieve an element form any data structure\n",
    "where it is stored based on the sreach operation\n",
    "These algorithms are generally classified into two categories\n",
    "----sequential\n",
    "in this the list is traversed sequentially and every element is checked\n",
    "----interva serach\n",
    "These algos are specifically designed dfor seraching in sort data structure\n",
    "These type of searching algorithms are much efficient than lenear search as they repeatedly target the center of\n",
    "search structure and divide the serach spacce in half fro example binary serach\n"
   ],
   "metadata": {}
  },
  {
   "cell_type": "code",
   "execution_count": null,
   "source": [
    "class LinearSearch(object):\n",
    "\tdef __init__(self,val,arr):\n",
    "\t\tself.val=val\n",
    "\t\tself.arr=arr\n",
    "\tdef searchArray(self):\n",
    "\t\tfor index in self.arr:\n",
    "\t\t\tif index==self.val:\n",
    "\t\t\t\treturn index\n",
    "\t\t\n",
    "\t\t\t\n",
    "arr=[10, 20, 80, 30, 60, 50,110, 100, 130, 170]\t\t\t\t\t\n",
    "ls=LinearSearch(110,arr)\n",
    "result=ls.searchArray()\n",
    "print(result)\n",
    "\t\t\n",
    "# \"\"\"\n",
    "# linear serach is rarely used practically because other serach algos\n",
    "# such as binary search algorithms and hash tables allow significantly faster searching \n",
    "# comparison to linear search \n",
    "# The time complexity of the alorithm O(n)\n",
    "\n",
    "# \"\"\"\n",
    "\t\t\n",
    "\n"
   ],
   "outputs": [],
   "metadata": {}
  },
  {
   "cell_type": "markdown",
   "source": [
    "#Binary search\n",
    "-"
   ],
   "metadata": {}
  },
  {
   "cell_type": "markdown",
   "source": [
    "search a sorted array by repeatedly dividing the serach inteval in half begin \n",
    "with an interval coverig the whole array by repeatedly dividing the search interval\n",
    "in half \n",
    "\n",
    "if the value of the search key is less than the item in the middle of the interval \n",
    "narrow the interval to the lower half otherwise go to the upperhlf \n",
    "but the array must be sorted "
   ],
   "metadata": {}
  },
  {
   "cell_type": "code",
   "execution_count": 17,
   "source": [
    "class BinarySearch(object):\n",
    "    def __init__(self,val,arr,left,right):\n",
    "        self.val=val\n",
    "        self.arr=arr\n",
    "        self.left=left\n",
    "        self.right=right\n",
    "        \n",
    "    def searchArray(self):\n",
    "        #iterative binary search \n",
    "        isFound=False\n",
    "        mid =None\n",
    "        while not isFound:\n",
    "            if self.right>=self.left:\n",
    "                #SORT THE ARRAY \n",
    "                self.arr.sort()\n",
    "                mid =self.left+(self.right-self.left)//2\n",
    "                #get the mid point of the array \n",
    "                #comapare the value at mid with val being searched \n",
    "                if self.arr[mid]==self.val:\n",
    "                    #check if the values match \n",
    "                    #if they match we have found the value \n",
    "                    #if not we continue with the algo\n",
    "                    isFound=True\n",
    "                    #meaning the searched value is found \n",
    "                    return self.arr[mid]\n",
    "                else:\n",
    "                    if self.arr[mid]<self.val:\n",
    "                        #change the left value or the lower bund of the array \n",
    "                        self.left=mid+1\n",
    "                        mid =self.left+(self.right-self.left)//2\n",
    "                    elif self.arr[mid]>self.val:\n",
    "                        #change the right value or the upper bound to be the new value\n",
    "                        #the value is the mid point of the array \n",
    "                        self.right=mid-1\n",
    "                        mid=self.left+(self.right-self.left)//2\n",
    "            else:\n",
    "                #maens the value was not found \n",
    "                return -1\n",
    "arr=[30,10,40,60,70]        \n",
    "right=len(arr)-1\n",
    "left=0  \n",
    "val=30\n",
    "bs=BinarySearch(val,arr,left,right)\n",
    "#arr.sort()#tim sort algorithm\n",
    "bs.searchArray()\n",
    "#1,2,3,4,5,6\n",
    "#0+4)/2\n",
    "#2 the middle index \n",
    "#do a floor division   \n",
    "#the time complexit of the program is O[log(N)]"
   ],
   "outputs": [
    {
     "output_type": "execute_result",
     "data": {
      "text/plain": [
       "30"
      ]
     },
     "metadata": {},
     "execution_count": 17
    }
   ],
   "metadata": {}
  },
  {
   "cell_type": "markdown",
   "source": [
    "#SORTING ALGORITHM\n"
   ],
   "metadata": {}
  },
  {
   "cell_type": "code",
   "execution_count": 23,
   "source": [
    "class BubbleSort(object):\n",
    "    def __init__(self,arr):\n",
    "        self.arr=arr\n",
    "    def sort(self):\n",
    "        for idx in range(len(self.arr)):\n",
    "            #print(self.arr[idx])\n",
    "            isSwapped=False\n",
    "            for id in range(len(self.arr)):\n",
    "                if self.arr[id]>self.arr[id+1]:\n",
    "                    #make a swap \n",
    "                    self.arr[id],self.arr[id+1]=self.arr[id+1],self.arr[id]\n",
    "                    isSwapped=True\n",
    "                    print(isSwapped)\n",
    "                    if (isSwapped==True):\n",
    "                        print(self.arr)\n",
    "                        break\n",
    "                    #break from the second loop \n",
    "                    \n",
    "        \t\t\t\n",
    "                    \n",
    "arr=[5,2,3,1]                    \n",
    "bsort=BubbleSort(arr) \n",
    "bsort.sort()    "
   ],
   "outputs": [
    {
     "output_type": "stream",
     "name": "stdout",
     "text": [
      "True\n",
      "[2, 5, 3, 1]\n",
      "True\n",
      "[2, 3, 5, 1]\n",
      "True\n",
      "[2, 3, 1, 5]\n",
      "True\n",
      "[2, 1, 3, 5]\n"
     ]
    }
   ],
   "metadata": {}
  },
  {
   "cell_type": "code",
   "execution_count": 26,
   "source": [
    "#imporves the bubble sort  by making only one exchange for every pass \n",
    "#\n",
    "class SelectionSort(object):\n",
    "    def __init__(self,arr):\n",
    "        self.arr=arr\n",
    "    def selectionSort(self):\n",
    "        #check for themost minmum value in the list \n",
    "        for idx in range(len(self.arr)):\n",
    "            idxMin=idx\n",
    "            for id in range(len(self.arr)):\n",
    "                if self.arr[idxMin]<self.arr[id]:\n",
    "                    idxMin=id\n",
    "             #make a swap \n",
    "            self.arr[idxMin],self.arr[id]=self.arr[id],self.arr[idxMin] \n",
    "        print(self.arr)    \n",
    "arr=[5,4,3,2,1]\n",
    "ssort=SelectionSort(arr)\n",
    "ssort.selectionSort()                  \n",
    "            "
   ],
   "outputs": [
    {
     "output_type": "stream",
     "name": "stdout",
     "text": [
      "[5, 4, 3, 2, 1]\n"
     ]
    }
   ],
   "metadata": {}
  }
 ],
 "metadata": {
  "kernelspec": {
   "name": "python3",
   "display_name": "Python 3.9.6 64-bit"
  },
  "language_info": {
   "codemirror_mode": {
    "name": "ipython",
    "version": 3
   },
   "file_extension": ".py",
   "mimetype": "text/x-python",
   "name": "python",
   "nbconvert_exporter": "python",
   "pygments_lexer": "ipython3",
   "version": "3.9.6"
  },
  "interpreter": {
   "hash": "f9f85f796d01129d0dd105a088854619f454435301f6ffec2fea96ecbd9be4ac"
  }
 },
 "nbformat": 4,
 "nbformat_minor": 5
}